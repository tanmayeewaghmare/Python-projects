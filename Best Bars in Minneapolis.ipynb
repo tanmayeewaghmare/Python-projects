{
 "cells": [
  {
   "cell_type": "code",
   "execution_count": 298,
   "metadata": {},
   "outputs": [],
   "source": [
    "#importing the libraries\n",
    "from bs4 import BeautifulSoup\n",
    "import requests\n",
    "import pandas as pd"
   ]
  },
  {
   "cell_type": "code",
   "execution_count": 272,
   "metadata": {},
   "outputs": [],
   "source": [
    "#Creating a variable to store the url from which we will scrape data\n",
    "url = 'http://mspmag.com/eat-and-drink/the-forty-four-best-bars/'"
   ]
  },
  {
   "cell_type": "code",
   "execution_count": 273,
   "metadata": {},
   "outputs": [],
   "source": [
    "#Getting the raw data from the url\n",
    "data = requests.get(url)"
   ]
  },
  {
   "cell_type": "code",
   "execution_count": 274,
   "metadata": {},
   "outputs": [],
   "source": [
    "#Using the html parser to get the html from the data extracted in the previous step\n",
    "soup = BeautifulSoup(data.text, 'html.parser')"
   ]
  },
  {
   "cell_type": "code",
   "execution_count": 278,
   "metadata": {},
   "outputs": [],
   "source": [
    "#Creating a variable to store the data contained within the tag 'div'.\n",
    "bars = soup.find(\"div\")"
   ]
  },
  {
   "cell_type": "code",
   "execution_count": 288,
   "metadata": {},
   "outputs": [],
   "source": [
    "#Finding all the bar names and storing it in the variable bar_names. All the bar names are embedded within the tags <h3> and </h3>.\n",
    "\n",
    "bar_names=bars.find_all(\"h3\")\n"
   ]
  },
  {
   "cell_type": "code",
   "execution_count": 289,
   "metadata": {},
   "outputs": [],
   "source": [
    "#Creating a loop to get clean data without special characters or html tags. Assigning the clean names to a list called 'bar_list'. \n",
    "\n",
    "bar_list = []\n",
    "for b in bar_names[0:]:\n",
    "    result = b.text.strip()\n",
    "    bar_list.append(result)\n",
    "    "
   ]
  },
  {
   "cell_type": "code",
   "execution_count": null,
   "metadata": {},
   "outputs": [],
   "source": [
    "#Displaying the 'bar_list'\n",
    "print(bar_list)"
   ]
  },
  {
   "cell_type": "code",
   "execution_count": 307,
   "metadata": {},
   "outputs": [],
   "source": [
    "#We observe that the last 9 elements are not bar names. So we remove those from our list using the following code\n",
    "bar_list = bar_list[:-9]"
   ]
  },
  {
   "cell_type": "code",
   "execution_count": null,
   "metadata": {},
   "outputs": [],
   "source": [
    "#Now we get our final list\n",
    "print(bar_list)"
   ]
  },
  {
   "cell_type": "code",
   "execution_count": 308,
   "metadata": {},
   "outputs": [
    {
     "data": {
      "text/plain": [
       "43"
      ]
     },
     "execution_count": 308,
     "metadata": {},
     "output_type": "execute_result"
    }
   ],
   "source": [
    "#Checking the length of the list i.e. the number of elements in the bar_list. Why are we doing this? Wait and watch!\n",
    "len(bar_list)"
   ]
  },
  {
   "cell_type": "code",
   "execution_count": 291,
   "metadata": {},
   "outputs": [],
   "source": [
    "#Now we want the addresses and contact details of these bars too. So we create variable to store this information which is embedded within the tags <em> and </em>.\n",
    "bar_address = bars.find_all(\"em\")"
   ]
  },
  {
   "cell_type": "code",
   "execution_count": 324,
   "metadata": {},
   "outputs": [],
   "source": [
    "#Creating a loop to get clean data without special characters or html tags. Assigning the clean names to a list called 'address_list'.\n",
    "\n",
    "address_list = []\n",
    "for a in bar_address[0:]:\n",
    "    result2 = a.text.strip()\n",
    "    address_list.append(result2)"
   ]
  },
  {
   "cell_type": "code",
   "execution_count": null,
   "metadata": {},
   "outputs": [],
   "source": [
    "print(address_list)"
   ]
  },
  {
   "cell_type": "code",
   "execution_count": 325,
   "metadata": {},
   "outputs": [],
   "source": [
    "#We observe that the last element is not relevant to our list hence we remove it using the following code\n",
    "address_list = address_list[:-1]"
   ]
  },
  {
   "cell_type": "code",
   "execution_count": null,
   "metadata": {},
   "outputs": [],
   "source": [
    "#Now we get our final clean list\n",
    "print(address_list)"
   ]
  },
  {
   "cell_type": "code",
   "execution_count": 326,
   "metadata": {},
   "outputs": [
    {
     "data": {
      "text/plain": [
       "43"
      ]
     },
     "execution_count": 326,
     "metadata": {},
     "output_type": "execute_result"
    }
   ],
   "source": [
    "#Checking the length of the list i.e. the number of element in the address_list\n",
    "len(address_list)"
   ]
  },
  {
   "cell_type": "code",
   "execution_count": 317,
   "metadata": {},
   "outputs": [],
   "source": [
    "#To convert both the lists to a dataframe, we need to ensure that the lengths of both the lists are exactly same. We have already verified the lengths of both the list which is 43.\n",
    "#So we can proceed with joining these two lists into a dataframe\n",
    "\n",
    "#Converting both the lists into a dataframe\n",
    "minn_bars = pd.DataFrame({'Bars': bar_list,'Address & Contact': address_list})"
   ]
  },
  {
   "cell_type": "code",
   "execution_count": 318,
   "metadata": {},
   "outputs": [
    {
     "data": {
      "text/html": [
       "<div>\n",
       "<style scoped>\n",
       "    .dataframe tbody tr th:only-of-type {\n",
       "        vertical-align: middle;\n",
       "    }\n",
       "\n",
       "    .dataframe tbody tr th {\n",
       "        vertical-align: top;\n",
       "    }\n",
       "\n",
       "    .dataframe thead th {\n",
       "        text-align: right;\n",
       "    }\n",
       "</style>\n",
       "<table border=\"1\" class=\"dataframe\">\n",
       "  <thead>\n",
       "    <tr style=\"text-align: right;\">\n",
       "      <th></th>\n",
       "      <th>Bars</th>\n",
       "      <th>Address &amp; Contact</th>\n",
       "    </tr>\n",
       "  </thead>\n",
       "  <tbody>\n",
       "    <tr>\n",
       "      <th>0</th>\n",
       "      <td>Eat Street Social</td>\n",
       "      <td>18 W. 26th St., Mpls., 612-767-6850, eatstreet...</td>\n",
       "    </tr>\n",
       "    <tr>\n",
       "      <th>1</th>\n",
       "      <td>Lyn65</td>\n",
       "      <td>6439 Lyndale Ave. S., Mpls., 612-353-5501, lyn...</td>\n",
       "    </tr>\n",
       "    <tr>\n",
       "      <th>2</th>\n",
       "      <td>Parlour</td>\n",
       "      <td>730 Washington Ave. N., Mpls., 612-354-3135, b...</td>\n",
       "    </tr>\n",
       "    <tr>\n",
       "      <th>3</th>\n",
       "      <td>Tattersall Distillery</td>\n",
       "      <td>1620 Central Ave., Mpls., 612-584-4152, tatter...</td>\n",
       "    </tr>\n",
       "    <tr>\n",
       "      <th>4</th>\n",
       "      <td>Alma</td>\n",
       "      <td>528 University Ave. SE, Mpls., 612-379-4909, a...</td>\n",
       "    </tr>\n",
       "    <tr>\n",
       "      <th>5</th>\n",
       "      <td>6Smith</td>\n",
       "      <td>294 Grove Lane E., Wayzata, 952-698-7900, 6smi...</td>\n",
       "    </tr>\n",
       "    <tr>\n",
       "      <th>6</th>\n",
       "      <td>Masu</td>\n",
       "      <td>330 Hennepin Ave. E., Mpls., 612-332-6278, mas...</td>\n",
       "    </tr>\n",
       "    <tr>\n",
       "      <th>7</th>\n",
       "      <td>Twin Spirits</td>\n",
       "      <td>2931 Central Ave. NE, Mpls., 612-353-5274, twi...</td>\n",
       "    </tr>\n",
       "    <tr>\n",
       "      <th>8</th>\n",
       "      <td>Manny’s</td>\n",
       "      <td>. 825 Marquette Ave. S., Mpls., 612-339-9900, ...</td>\n",
       "    </tr>\n",
       "    <tr>\n",
       "      <th>9</th>\n",
       "      <td>St. Paul Grill</td>\n",
       "      <td>350 Market St., St. Paul, 651-224-7455, stpaul...</td>\n",
       "    </tr>\n",
       "    <tr>\n",
       "      <th>10</th>\n",
       "      <td>Merlins Rest</td>\n",
       "      <td>3601 E. Lake St., Mpls., 612-216-2419, merlins...</td>\n",
       "    </tr>\n",
       "    <tr>\n",
       "      <th>11</th>\n",
       "      <td>Butcher &amp; The Boar</td>\n",
       "      <td>1121 Hennepin Ave., Mpls., 612-238-8888,  butc...</td>\n",
       "    </tr>\n",
       "    <tr>\n",
       "      <th>12</th>\n",
       "      <td>Sushi Fix</td>\n",
       "      <td>862 E. Lake St., Wayzata, 952-473-1364, sushif...</td>\n",
       "    </tr>\n",
       "    <tr>\n",
       "      <th>13</th>\n",
       "      <td>Hai Hai</td>\n",
       "      <td>2121 University Ave. NE, Mpls., 612-223-8640, ...</td>\n",
       "    </tr>\n",
       "    <tr>\n",
       "      <th>14</th>\n",
       "      <td>Martina</td>\n",
       "      <td>4312 S. Upton Ave., Mpls., 612-922-9913, marti...</td>\n",
       "    </tr>\n",
       "    <tr>\n",
       "      <th>15</th>\n",
       "      <td>Pajarito</td>\n",
       "      <td>605 W. 7th St., St Paul, 651-340-9545, pajarit...</td>\n",
       "    </tr>\n",
       "    <tr>\n",
       "      <th>16</th>\n",
       "      <td>Young Joni</td>\n",
       "      <td>165 13th Ave. NE, Mpls., 612-345-5719, youngjo...</td>\n",
       "    </tr>\n",
       "    <tr>\n",
       "      <th>17</th>\n",
       "      <td>Nightingale</td>\n",
       "      <td>2551 Lyndale Ave. S., Mpls., 612-354-7060, nig...</td>\n",
       "    </tr>\n",
       "    <tr>\n",
       "      <th>18</th>\n",
       "      <td>The Oceanaire Seafood Room</td>\n",
       "      <td>50 S. 6th St., Mpls., 612-333-2277, theoceanai...</td>\n",
       "    </tr>\n",
       "    <tr>\n",
       "      <th>19</th>\n",
       "      <td>Murray’s</td>\n",
       "      <td>26 S. 6th St., Mpls., 612-339-0909, murraysres...</td>\n",
       "    </tr>\n",
       "    <tr>\n",
       "      <th>20</th>\n",
       "      <td>Icehouse</td>\n",
       "      <td>2528 Nicollet Ave. S., Mpls., 612-276-6523, ic...</td>\n",
       "    </tr>\n",
       "    <tr>\n",
       "      <th>21</th>\n",
       "      <td>The Local and Kieran’s</td>\n",
       "      <td>The Local, 931 Nicollet Mall, Mpls., 612-904-1...</td>\n",
       "    </tr>\n",
       "    <tr>\n",
       "      <th>22</th>\n",
       "      <td>Pazzaluna</td>\n",
       "      <td>360 St. Peter St., St. Paul, 651-223-7000, paz...</td>\n",
       "    </tr>\n",
       "    <tr>\n",
       "      <th>23</th>\n",
       "      <td>Bunny’s</td>\n",
       "      <td>5916 Excelsior Blvd., St. Louis Park, 952-922-...</td>\n",
       "    </tr>\n",
       "    <tr>\n",
       "      <th>24</th>\n",
       "      <td>Tiffany Sports Lounge</td>\n",
       "      <td>2051 Ford Pkwy., St. Paul, 651-690-4747, tiffa...</td>\n",
       "    </tr>\n",
       "    <tr>\n",
       "      <th>25</th>\n",
       "      <td>Herkimer Pub &amp; Brewery</td>\n",
       "      <td>2922 Lyndale Ave. S., Mpls., 612-821-0101, the...</td>\n",
       "    </tr>\n",
       "    <tr>\n",
       "      <th>26</th>\n",
       "      <td>Randle’s</td>\n",
       "      <td>921 Nicollet Mall, Mpls., 612-351-1234, johnra...</td>\n",
       "    </tr>\n",
       "    <tr>\n",
       "      <th>27</th>\n",
       "      <td>Volstead’s Emporium</td>\n",
       "      <td>711 W. Lake St., Mpls.</td>\n",
       "    </tr>\n",
       "    <tr>\n",
       "      <th>28</th>\n",
       "      <td>Sea Change</td>\n",
       "      <td>806 S. 2nd St., Mpls., 612-225-6499, seachange...</td>\n",
       "    </tr>\n",
       "    <tr>\n",
       "      <th>29</th>\n",
       "      <td>Meritage</td>\n",
       "      <td>410 St. Peter St., St. Paul, 651-222-5670, mer...</td>\n",
       "    </tr>\n",
       "    <tr>\n",
       "      <th>30</th>\n",
       "      <td>The Bachelor Farmer</td>\n",
       "      <td>50 2nd Ave. N., Mpls., 612-206-3920, thebachel...</td>\n",
       "    </tr>\n",
       "    <tr>\n",
       "      <th>31</th>\n",
       "      <td>Gyst</td>\n",
       "      <td>25 E. 26th St., Mpls., 612-758-0113, gystmpls.com</td>\n",
       "    </tr>\n",
       "    <tr>\n",
       "      <th>32</th>\n",
       "      <td>Broders’ Terzo Vino Bar</td>\n",
       "      <td>2221 W. 50th St., Mpls., 612-925-0330, broders...</td>\n",
       "    </tr>\n",
       "    <tr>\n",
       "      <th>33</th>\n",
       "      <td>Troubadour</td>\n",
       "      <td>2827 Hennepin Ave., Mpls., 612-871-4073, troub...</td>\n",
       "    </tr>\n",
       "    <tr>\n",
       "      <th>34</th>\n",
       "      <td>Domacin Restaurant &amp; Wine Bar</td>\n",
       "      <td>102 S. 2nd St., Stillwater, 651-439-1352, doma...</td>\n",
       "    </tr>\n",
       "    <tr>\n",
       "      <th>35</th>\n",
       "      <td>Hola Arepa</td>\n",
       "      <td>3501 Nicollet Ave. S., Mpls., 612-345-5583, ho...</td>\n",
       "    </tr>\n",
       "    <tr>\n",
       "      <th>36</th>\n",
       "      <td>Brit’s Pub</td>\n",
       "      <td>1110 Nicollet Mall, Mpls., 612-332-3908, brits...</td>\n",
       "    </tr>\n",
       "    <tr>\n",
       "      <th>37</th>\n",
       "      <td>Sonora Grill</td>\n",
       "      <td>3300 E. Lake St., Mpls., 612-727-2500, sonorag...</td>\n",
       "    </tr>\n",
       "    <tr>\n",
       "      <th>38</th>\n",
       "      <td>Psycho Suzi’s</td>\n",
       "      <td>1900 NE Marshall St., Mpls., 612-788-9069, psy...</td>\n",
       "    </tr>\n",
       "    <tr>\n",
       "      <th>39</th>\n",
       "      <td>Half Time Rec</td>\n",
       "      <td>1013 Front Ave., St. Paul, 651-488-8245, halft...</td>\n",
       "    </tr>\n",
       "    <tr>\n",
       "      <th>40</th>\n",
       "      <td>Liquor Lyle’s</td>\n",
       "      <td>2021 Hennepin Ave. S., Mpls., 612-870-8183</td>\n",
       "    </tr>\n",
       "    <tr>\n",
       "      <th>41</th>\n",
       "      <td>CC Club</td>\n",
       "      <td>2600 Lyndale Ave. S., Mpls., 612-874-7226, ccc...</td>\n",
       "    </tr>\n",
       "    <tr>\n",
       "      <th>42</th>\n",
       "      <td>Grumpy’s NE</td>\n",
       "      <td>2200 NE 4th St., Mpls., 612-789-7429, grumpys-...</td>\n",
       "    </tr>\n",
       "  </tbody>\n",
       "</table>\n",
       "</div>"
      ],
      "text/plain": [
       "                             Bars  \\\n",
       "0               Eat Street Social   \n",
       "1                           Lyn65   \n",
       "2                         Parlour   \n",
       "3           Tattersall Distillery   \n",
       "4                            Alma   \n",
       "5                          6Smith   \n",
       "6                            Masu   \n",
       "7                    Twin Spirits   \n",
       "8                         Manny’s   \n",
       "9                  St. Paul Grill   \n",
       "10                   Merlins Rest   \n",
       "11             Butcher & The Boar   \n",
       "12                      Sushi Fix   \n",
       "13                        Hai Hai   \n",
       "14                        Martina   \n",
       "15                       Pajarito   \n",
       "16                     Young Joni   \n",
       "17                    Nightingale   \n",
       "18     The Oceanaire Seafood Room   \n",
       "19                       Murray’s   \n",
       "20                       Icehouse   \n",
       "21         The Local and Kieran’s   \n",
       "22                      Pazzaluna   \n",
       "23                        Bunny’s   \n",
       "24          Tiffany Sports Lounge   \n",
       "25         Herkimer Pub & Brewery   \n",
       "26                       Randle’s   \n",
       "27            Volstead’s Emporium   \n",
       "28                     Sea Change   \n",
       "29                       Meritage   \n",
       "30            The Bachelor Farmer   \n",
       "31                           Gyst   \n",
       "32        Broders’ Terzo Vino Bar   \n",
       "33                     Troubadour   \n",
       "34  Domacin Restaurant & Wine Bar   \n",
       "35                     Hola Arepa   \n",
       "36                     Brit’s Pub   \n",
       "37                   Sonora Grill   \n",
       "38                  Psycho Suzi’s   \n",
       "39                  Half Time Rec   \n",
       "40                  Liquor Lyle’s   \n",
       "41                        CC Club   \n",
       "42                    Grumpy’s NE   \n",
       "\n",
       "                                    Address & Contact  \n",
       "0   18 W. 26th St., Mpls., 612-767-6850, eatstreet...  \n",
       "1   6439 Lyndale Ave. S., Mpls., 612-353-5501, lyn...  \n",
       "2   730 Washington Ave. N., Mpls., 612-354-3135, b...  \n",
       "3   1620 Central Ave., Mpls., 612-584-4152, tatter...  \n",
       "4   528 University Ave. SE, Mpls., 612-379-4909, a...  \n",
       "5   294 Grove Lane E., Wayzata, 952-698-7900, 6smi...  \n",
       "6   330 Hennepin Ave. E., Mpls., 612-332-6278, mas...  \n",
       "7   2931 Central Ave. NE, Mpls., 612-353-5274, twi...  \n",
       "8   . 825 Marquette Ave. S., Mpls., 612-339-9900, ...  \n",
       "9   350 Market St., St. Paul, 651-224-7455, stpaul...  \n",
       "10  3601 E. Lake St., Mpls., 612-216-2419, merlins...  \n",
       "11  1121 Hennepin Ave., Mpls., 612-238-8888,  butc...  \n",
       "12  862 E. Lake St., Wayzata, 952-473-1364, sushif...  \n",
       "13  2121 University Ave. NE, Mpls., 612-223-8640, ...  \n",
       "14  4312 S. Upton Ave., Mpls., 612-922-9913, marti...  \n",
       "15  605 W. 7th St., St Paul, 651-340-9545, pajarit...  \n",
       "16  165 13th Ave. NE, Mpls., 612-345-5719, youngjo...  \n",
       "17  2551 Lyndale Ave. S., Mpls., 612-354-7060, nig...  \n",
       "18  50 S. 6th St., Mpls., 612-333-2277, theoceanai...  \n",
       "19  26 S. 6th St., Mpls., 612-339-0909, murraysres...  \n",
       "20  2528 Nicollet Ave. S., Mpls., 612-276-6523, ic...  \n",
       "21  The Local, 931 Nicollet Mall, Mpls., 612-904-1...  \n",
       "22  360 St. Peter St., St. Paul, 651-223-7000, paz...  \n",
       "23  5916 Excelsior Blvd., St. Louis Park, 952-922-...  \n",
       "24  2051 Ford Pkwy., St. Paul, 651-690-4747, tiffa...  \n",
       "25  2922 Lyndale Ave. S., Mpls., 612-821-0101, the...  \n",
       "26  921 Nicollet Mall, Mpls., 612-351-1234, johnra...  \n",
       "27                             711 W. Lake St., Mpls.  \n",
       "28  806 S. 2nd St., Mpls., 612-225-6499, seachange...  \n",
       "29  410 St. Peter St., St. Paul, 651-222-5670, mer...  \n",
       "30  50 2nd Ave. N., Mpls., 612-206-3920, thebachel...  \n",
       "31  25 E. 26th St., Mpls., 612-758-0113, gystmpls.com  \n",
       "32  2221 W. 50th St., Mpls., 612-925-0330, broders...  \n",
       "33  2827 Hennepin Ave., Mpls., 612-871-4073, troub...  \n",
       "34  102 S. 2nd St., Stillwater, 651-439-1352, doma...  \n",
       "35  3501 Nicollet Ave. S., Mpls., 612-345-5583, ho...  \n",
       "36  1110 Nicollet Mall, Mpls., 612-332-3908, brits...  \n",
       "37  3300 E. Lake St., Mpls., 612-727-2500, sonorag...  \n",
       "38  1900 NE Marshall St., Mpls., 612-788-9069, psy...  \n",
       "39  1013 Front Ave., St. Paul, 651-488-8245, halft...  \n",
       "40         2021 Hennepin Ave. S., Mpls., 612-870-8183  \n",
       "41  2600 Lyndale Ave. S., Mpls., 612-874-7226, ccc...  \n",
       "42  2200 NE 4th St., Mpls., 612-789-7429, grumpys-...  "
      ]
     },
     "execution_count": 318,
     "metadata": {},
     "output_type": "execute_result"
    }
   ],
   "source": [
    "#Displaying the final dataframe\n",
    "print(minn_bars)"
   ]
  },
  {
   "cell_type": "code",
   "execution_count": 320,
   "metadata": {},
   "outputs": [],
   "source": [
    "#Creating an excel file from the dataframe\n",
    "minn_bars.to_excel(\"Best Bars in Minneapolis.xlsx\", index=False)"
   ]
  },
  {
   "cell_type": "code",
   "execution_count": null,
   "metadata": {},
   "outputs": [],
   "source": [
    "#We have created a directory in Excel that gives us the list of best bars in town along with their addresses, phone numbers and website address. You are all set to go bar hopping! :)"
   ]
  }
 ],
 "metadata": {
  "kernelspec": {
   "display_name": "Python 3",
   "language": "python",
   "name": "python3"
  },
  "language_info": {
   "codemirror_mode": {
    "name": "ipython",
    "version": 3
   },
   "file_extension": ".py",
   "mimetype": "text/x-python",
   "name": "python",
   "nbconvert_exporter": "python",
   "pygments_lexer": "ipython3",
   "version": "3.7.0"
  }
 },
 "nbformat": 4,
 "nbformat_minor": 2
}
